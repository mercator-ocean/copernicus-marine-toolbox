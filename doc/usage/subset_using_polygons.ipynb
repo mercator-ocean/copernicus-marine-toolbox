{
 "cells": [
  {
   "cell_type": "markdown",
   "metadata": {},
   "source": [
    "![header](https://i.imgur.com/I4ake6d.jpg)\n",
    "\n",
    "***\n",
    "<center><h1> Polygon Extractor Using the Copernicus Marine Toolbox </h1></center>\n",
    "\n",
    "***\n",
    "**General Note 1**: Execute each cell through the <button class=\"btn btn-default btn-xs\"><i class=\"icon-play fa fa-play\"></i></button> button from the top MENU (or keyboard shortcut `Shift` + `Enter`).<br>\n",
    "<br>\n",
    "**General Note 2**: If, for any reason, the kernel is not working anymore, in the top MENU, click on the <button class=\"btn btn-default btn-xs\"><i class=\"fa fa-repeat icon-repeat\"></i></button> button. Then, in the top MENU, click on \"Run\" and select \"Run All Above Selected Cell\".<br>\n",
    "***\n"
   ]
  },
  {
   "cell_type": "markdown",
   "metadata": {},
   "source": [
    "# Table of contents\n",
    "\n",
    "- [1. Introduction](#1.-Introduction)\n",
    "- [2. Import the required libraries](#2.-Import-the-required-libraries)\n",
    "- [3. Load polygon, extract data and apply spatial clip](#3.-Load-polygon,-extract-data-and-apply-spatial-clip)\n",
    "- [4. Visualize the clipped dataset (optional)](#4.-Visualize-the-clipped-dataset-(optional))\n",
    "- [5. Conclusion](#5.-Conclusion)"
   ]
  },
  {
   "cell_type": "markdown",
   "metadata": {},
   "source": [
    "# 1. Introduction\n",
    "\n",
    "[Go back to the \"Table of contents\"](#table-of-contents)\n",
    "\n",
    "\n",
    "This notebook demonstrates how to extract Copernicus Marine data within the boundaries of a polygon defined in a vector file format such as ``.geojson``, ``.shp``, ``.gpkg``, or ``.kml``.\n",
    "By using the geometry of the polygon, the dataset is spatially subsetted to retain only the relevant area.\n",
    "\n",
    "In this example, we focus on the French coastline, and illustrate how to download and process the eastward (uo) and northward (vo) sea water velocity variables using the product ``GLOBAL_ANALYSISFORECAST_PHY_001_024``, specifically the dataset ``cmems_mod_glo_phy_anfc_0.083deg_P1D-m``."
   ]
  },
  {
   "cell_type": "markdown",
   "metadata": {},
   "source": [
    "# 2. Import the required libraries\n",
    "[Go back to the \"Table of contents\"](#Table-of-contents)\n",
    "\n",
    "We start by importing all necessary libraries to read vector files, handle NetCDF data, perform clipping, and visualize the data.\n",
    "\n",
    "| Module name | Description |\n",
    "| :---: | :---|\n",
    "|**Copernicus Marine Toolbox**| [Copernicus Marine Toolbox](https://toolbox-docs.marine.copernicus.eu/en/v2.0.1/) facilitates access, analysis, and visualization of Copernicus Marine data.|\n",
    "|**geopandas**| [GeoPandas](https://geopandas.org/en/stable/) is a powerful package for working with geospatial data in tabular form.|\n",
    "|**xarray**| [Xarray](http://xarray.pydata.org/en/stable/) is a very user friendly library to manipulate NetCDF files within Python. It introduces labels in the form of dimensions, coordinates and attributes.| \n",
    "| **netCDF4** | [netCDF4](https://unidata.github.io/netcdf4-python/) is a Python interface to the netCDF C library.|\n",
    "|**rioxarray**| [rioxarray](https://corteva.github.io/rioxarray/stable/) enables geospatial raster operations in xarray.|\n",
    "|**matplotlib**| [matplotlib](https://matplotlib.org/) is a library for creating static, animated, and interactive visualizations in Python.|\n",
    "\n",
    "📝 Note: Make sure the file ``functions_polygons.py`` is present in the same directory as this notebook.\n",
    "This file contains all the necessary functions used throughout the notebook. \\\n",
    "The file is available in the [Git repository](https://github.com/mercator-ocean/copernicus-marine-toolbox/tree/main/doc/usage), but you can also download it directly from [this link](https://atlas.mercator-ocean.fr/s/KHi5GiLy47C8k5k)."
   ]
  },
  {
   "cell_type": "code",
   "execution_count": 6,
   "metadata": {},
   "outputs": [],
   "source": [
    "import os \n",
    "from copernicusmarine import open_dataset\n",
    "import geopandas as gpd\n",
    "import xarray as xr\n",
    "import rioxarray\n",
    "import matplotlib.pyplot as plt\n",
    "\n",
    "\n",
    "from functions_polygons import extract_clipped_dataset"
   ]
  },
  {
   "cell_type": "markdown",
   "metadata": {},
   "source": [
    "# 3. Load polygon, extract data and apply spatial clip  \n",
    "\n",
    "[Go back to the \"Table of contents\"](#Table-of-contents)\n",
    "\n",
    "In this step, we call the function ``extract_clipped_dataset`` defined in `functions_polygons.py` to load the polygon file, extract the corresponding Copernicus Marine data for the specified variables, time range, and depth range, and apply the polygon as a spatial clip.\n",
    "\n",
    "Note: If this is your first time using the ``copernicusmarine`` package, you will be prompted to insert your Copernicus Marine username and password ([request yours here, it's free](https://help.marine.copernicus.eu/en/articles/4220332-how-to-sign-up-for-copernicus-marine-service)). If you want to avoid entering your credentials every time, we recommend following [this guide](https://help.marine.copernicus.eu/en/articles/7949409-copernicus-marine-toolbox-introduction#h_9172b5c79a) to save them.\n",
    "\n",
    "#### 🔹 Steps of the ``extract_clipped_dataset`` function:\n",
    "\n",
    "1. Loads a polygon file and extracts its **minimum bounding box**.\n",
    "2. Downloads a **subset of data** from the Copernicus Marine dataset within the bounding box using the Toolbox.\n",
    "3. **Creates a clip** from the provided polygons and applies it to the dataset.\n",
    "4. Returns the result as an ``xarray.Dataset``. If ``OUTPUT_FILE`` is provided, it also encodes and saves the dataset as a NetCDF (``.nc``) file.\n",
    "\n",
    "#### 🔹 Parameters:\n",
    "\n",
    "1. **`polygon_file`** (*str*): Path to the file containing the polygons ( e.g. ``.geojson``, ``.shp``, ``.gpkg``, or ``.kml``).\n",
    "2. **`dataset_id`** (*str*): Copernicus Marine dataset ID to download.  \n",
    "3. **`variables`** (*list*): List of variables to extract.  \n",
    "4. **`start_date`** (*str*): Start date (format `YYYY-MM-DD`).  \n",
    "5. **`end_date`** (*str*): End date (format `YYYY-MM-DD`).  \n",
    "6. **`min_depth`** (*float, optional*): Minimum depth (in meters), set to None to disable.  \n",
    "7. **`max_depth`** (*float, optional*): Maximum depth (in meters), set to None to disable.  \n",
    "8. **`output_file`** (*str, optional*): Output file name to save the clipped dataset, set to None to disable.\n",
    "\n",
    "#### 🔹 Returns:\n",
    "- **`clipped_data`** (*xarray.Dataset*):  \n",
    "  - Returned the final result as an ``xarray.Dataset``, and if ``OUTPUT_FILE`` is set, it also saves it as a NetCDF (``.nc``) file."
   ]
  },
  {
   "cell_type": "code",
   "execution_count": 7,
   "metadata": {},
   "outputs": [
    {
     "name": "stderr",
     "output_type": "stream",
     "text": [
      "INFO - 2025-04-18T10:04:46Z - Selected dataset version: \"202406\"\n",
      "INFO - 2025-04-18T10:04:46Z - Selected dataset part: \"default\"\n",
      "WARNING - 2025-04-18T10:04:48Z - Some of your subset selection [0, 100] for the depth dimension exceed the dataset coordinates [0.49402499198913574, 5727.9169921875]\n"
     ]
    },
    {
     "name": "stdout",
     "output_type": "stream",
     "text": [
      "Dataset successfully saved at: dataset_french_coast.nc\n",
      "Dataset was successfully clipped and is ready for use.\n"
     ]
    }
   ],
   "source": [
    "clipped_data = extract_clipped_dataset(\n",
    "    polygon_file=\"french_coast.geojson\", # Path to the file containing the polygons  \n",
    "    dataset_id='cmems_mod_glo_phy-cur_anfc_0.083deg_P1D-m', # Copernicus Marine dataset ID to download\n",
    "    variables=['uo','vo'], # List of variables to extract  \n",
    "    start_date='2025-02-06', #: Start date (format `YYYY-MM-DD\n",
    "    end_date='2025-02-14', # End date (format `YYYY-MM-DD`)    \n",
    "    min_depth=0, # Minimum depth (in meters), Set to None to disable.\n",
    "    max_depth=100, # Maximum depth (in meters), Set to None to disable\n",
    "    output_file=\"dataset_french_coast.nc\" # Output file name to save the clipped dataset, Set to None to disable.\n",
    ")"
   ]
  },
  {
   "cell_type": "markdown",
   "metadata": {},
   "source": [
    "# 4. Visualize the clipped dataset (optional)\n",
    "\n",
    "[Go back to the \"Table of contents\"](#Table-of-contents)\n",
    "\n",
    "This step is **optional** and allows to **preview the clipped dataset**.  \n",
    "It selects the first available variable, time and depth index (if applicable) and displays the data using a color map.  \n",
    "This visualization helps verify that the clipping process has been applied correctly."
   ]
  },
  {
   "cell_type": "code",
   "execution_count": 8,
   "metadata": {},
   "outputs": [
    {
     "data": {
      "image/png": "[encoded data removed]",
      "text/plain": [
       "<Figure size 700x500 with 2 Axes>"
      ]
     },
     "metadata": {},
     "output_type": "display_data"
    }
   ],
   "source": [
    "var_name = next(iter(clipped_data.data_vars))\n",
    "da = clipped_data[var_name].isel(time=0, depth=0, missing_dims=\"ignore\")\n",
    "\n",
    "time = str(da.time.values)[:19] if \"time\" in da.coords else \"N/A\"\n",
    "depth = round(da.depth.values.item(), 3) if \"depth\" in da.coords else \"Surface\"\n",
    "\n",
    "plt.figure(figsize=(7, 5))\n",
    "plt.pcolormesh(da.longitude, da.latitude, da.values, shading='auto')\n",
    "plt.colorbar(label=var_name)\n",
    "plt.title(f\"{var_name} | Time: {time} | Depth: {depth}\")\n",
    "plt.xlabel(\"Longitude\")\n",
    "plt.ylabel(\"Latitude\")\n",
    "plt.gca().set_aspect('equal')\n",
    "plt.tight_layout()\n",
    "plt.show()\n"
   ]
  },
  {
   "cell_type": "markdown",
   "metadata": {},
   "source": [
    "# 5. Conclusion\n",
    "\n",
    "In this notebook, you learned how to access and extract CMEMS data over specific geographic areas using polygon clips. And you explored how to visualize the extracted data effectively."
   ]
  },
  {
   "cell_type": "markdown",
   "metadata": {},
   "source": [
    "<div class=\"alert alert-block alert-success\">\n",
    "    <b>Congratulations !!</b><br>\n",
    "\n",
    "Thank you for your attention! :) \n",
    "    \n",
    "We hope you enjoyed this Jupyter Notebook on polygon extraction.\n",
    "\n",
    "You now have all the tools to load polygons defined in a vector file, apply spatial clips, and extract relevant data from datasets. Feel free to re-use and adapt any of the Python scripts from this notebook to suit your needs!\n",
    "\n",
    "We’d love to hear your feedback on how we can improve it — whether it's about the topics, tools, clarity, pacing, or overall structure.  \n",
    "\n",
    "If you have any questions, don’t hesitate to reach out to us at [servicedesk.cmems@mercator-ocean.eu](mailto:servicedesk.cmems@mercator-ocean.eu)!\n",
    "</div>"
   ]
  }
 ],
 "metadata": {
  "kernelspec": {
   "display_name": "copernicusmarinetest",
   "language": "python",
   "name": "python3"
  },
  "language_info": {
   "codemirror_mode": {
    "name": "ipython",
    "version": 3
   },
   "file_extension": ".py",
   "mimetype": "text/x-python",
   "name": "python",
   "nbconvert_exporter": "python",
   "pygments_lexer": "ipython3",
   "version": "3.13.3"
  },
  "toc": {
   "base_numbering": 1,
   "nav_menu": {},
   "number_sections": true,
   "sideBar": true,
   "skip_h1_title": false,
   "title_cell": "Table of Contents",
   "title_sidebar": "Contents",
   "toc_cell": false,
   "toc_position": {},
   "toc_section_display": true,
   "toc_window_display": false
  }
 },
 "nbformat": 4,
 "nbformat_minor": 4
}
